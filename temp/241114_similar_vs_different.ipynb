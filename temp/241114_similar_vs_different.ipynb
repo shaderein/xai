{
 "cells": [
  {
   "cell_type": "code",
   "execution_count": 1,
   "metadata": {},
   "outputs": [],
   "source": [
    "import pandas as pd\n",
    "import numpy as np\n",
    "import pickle\n",
    "from collections import defaultdict"
   ]
  },
  {
   "cell_type": "code",
   "execution_count": 32,
   "metadata": {},
   "outputs": [],
   "source": [
    "root_dir = '/home/jinhanz/cs/xai/results/mscoco/241030_bilinear_xai_saliency_maps_fasterrcnn'\n",
    "\n",
    "PCC_all = pickle.load(open(f'{root_dir}/mscoco_PCC_all_conv.pickle','rb'))\n",
    "\n",
    "PCC_layer_mean = defaultdict()\n",
    "\n",
    "for analysis in PCC_all.keys():\n",
    "    PCC_layer_mean[analysis] = pd.DataFrame.from_dict(PCC_all[analysis]).mean(axis=0)\n",
    "\n",
    "focused_analysis = ['DET vs FullGradCam','EXP vs ODAM','PV vs FullGradCam']\n",
    "\n",
    "analysis = 'DET vs FullGradCam'\n",
    "\n",
    "dfs = {}\n",
    "PCC_mean = {}\n",
    "\n",
    "df = pd.DataFrame.from_dict(PCC_all[analysis])\n",
    "\n",
    "dfs[analysis] = df.T\n",
    "PCC_mean[analysis] = df.T.mean(axis=1)\n"
   ]
  },
  {
   "cell_type": "code",
   "execution_count": 33,
   "metadata": {},
   "outputs": [],
   "source": [
    "last_layer = dfs[analysis].loc['roi_heads.res5.1.conv2']"
   ]
  },
  {
   "cell_type": "code",
   "execution_count": 36,
   "metadata": {},
   "outputs": [
    {
     "data": {
      "text/plain": [
       "apple_216277         0.575191\n",
       "giraffe_289659       0.659136\n",
       "zebra_491613         0.551104\n",
       "motorcycle_499622    0.631579\n",
       "Name: roi_heads.res5.1.conv2, dtype: float64"
      ]
     },
     "execution_count": 36,
     "metadata": {},
     "output_type": "execute_result"
    }
   ],
   "source": [
    "last_layer[last_layer > 0.5]"
   ]
  },
  {
   "cell_type": "code",
   "execution_count": 37,
   "metadata": {},
   "outputs": [
    {
     "data": {
      "text/plain": [
       "handbag_383842      0.084448\n",
       "sandwich_465430    -0.021384\n",
       "bed_491757         -0.089286\n",
       "bird_100489         0.093183\n",
       "bottle_460929      -0.016990\n",
       "                      ...   \n",
       "bear_519611         0.068756\n",
       "bicycle_426166      0.067882\n",
       "microwave_207538   -0.053646\n",
       "tie_244496          0.036809\n",
       "skateboard_71877    0.091814\n",
       "Name: roi_heads.res5.1.conv2, Length: 69, dtype: float64"
      ]
     },
     "execution_count": 37,
     "metadata": {},
     "output_type": "execute_result"
    }
   ],
   "source": [
    "last_layer[last_layer < 0.1]"
   ]
  },
  {
   "cell_type": "code",
   "execution_count": 8,
   "metadata": {},
   "outputs": [
    {
     "name": "stdout",
     "output_type": "stream",
     "text": [
      "backpack_177065         0.562526\n",
      "tennis racket_394559    0.515817\n",
      "spoon_248314            0.513106\n",
      "pizza_276285            0.532749\n",
      "Name: backbone.res4.5.conv3, dtype: float64\n"
     ]
    }
   ],
   "source": [
    "last_layer = dfs[analysis].loc['backbone.res4.5.conv3']\n",
    "print(last_layer[last_layer > 0.5])"
   ]
  },
  {
   "cell_type": "code",
   "execution_count": 9,
   "metadata": {},
   "outputs": [
    {
     "name": "stdout",
     "output_type": "stream",
     "text": [
      "sandwich_465430         0.072211\n",
      "bed_491757             -0.016772\n",
      "bottle_460929           0.098469\n",
      "dining table_480122    -0.043287\n",
      "suitcase_350019         0.005392\n",
      "bench_350607            0.010624\n",
      "frisbee_139872          0.060395\n",
      "cat_558073              0.015292\n",
      "book_167159             0.028695\n",
      "cell phone_480212       0.068717\n",
      "wine glass_146489       0.040476\n",
      "toilet_85576            0.095150\n",
      "skateboard_229553      -0.010661\n",
      "person_562243           0.055171\n",
      "vase_376478             0.091441\n",
      "vase_521282             0.078429\n",
      "bench_310072            0.043284\n",
      "bed_468245              0.039827\n",
      "bus_106048             -0.012053\n",
      "sink_51598              0.050317\n",
      "keyboard_66635          0.059285\n",
      "banana_290619           0.055721\n",
      "fire hydrant_344909    -0.010440\n",
      "bus_226154              0.038039\n",
      "dining table_385029    -0.007742\n",
      "pizza_294831            0.052947\n",
      "parking meter_568147    0.038963\n",
      "chair_81061             0.058497\n",
      "sandwich_417608         0.045691\n",
      "microwave_207538        0.034569\n",
      "Name: backbone.res4.5.conv3, dtype: float64\n"
     ]
    }
   ],
   "source": [
    "print(last_layer[last_layer < 0.1])"
   ]
  },
  {
   "cell_type": "markdown",
   "metadata": {},
   "source": [
    "# Yolov5s"
   ]
  },
  {
   "cell_type": "code",
   "execution_count": 38,
   "metadata": {},
   "outputs": [],
   "source": [
    "root_dir = '/home/jinhanz/cs/xai/results/mscoco/240918_yolov5s_abc/'\n",
    "\n",
    "PCC_all = pickle.load(open(f'{root_dir}/mscoco_bilinear_PCC_all_conv.pickle','rb'))\n",
    "\n",
    "PCC_layer_mean = defaultdict()\n",
    "\n",
    "for analysis in PCC_all.keys():\n",
    "    PCC_layer_mean[analysis] = pd.DataFrame.from_dict(PCC_all[analysis]).mean(axis=0)\n",
    "\n",
    "focused_analysis = ['DET vs FullGradCam','EXP vs ODAM','PV vs FullGradCam']\n",
    "\n",
    "analysis = 'DET vs FullGradCam'\n",
    "\n",
    "dfs = {}\n",
    "PCC_mean = {}\n",
    "\n",
    "df = pd.DataFrame.from_dict(PCC_all[analysis])\n",
    "\n",
    "dfs[analysis] = df.T\n",
    "PCC_mean[analysis] = df.T.mean(axis=1)\n"
   ]
  },
  {
   "cell_type": "code",
   "execution_count": 39,
   "metadata": {},
   "outputs": [
    {
     "name": "stdout",
     "output_type": "stream",
     "text": [
      "airplane_167540        0.680467\n",
      "bear_521231            0.645513\n",
      "refrigerator_536947    0.655871\n",
      "skateboard_71877       0.617752\n",
      "suitcase_23023         0.667301\n",
      "Name: model_17_cv3_act, dtype: float64\n"
     ]
    }
   ],
   "source": [
    "last_layer = dfs[analysis].loc['model_17_cv3_act']\n",
    "print(last_layer[last_layer > 0.6])"
   ]
  },
  {
   "cell_type": "code",
   "execution_count": 30,
   "metadata": {},
   "outputs": [
    {
     "name": "stdout",
     "output_type": "stream",
     "text": [
      "bird_404568          0.099773\n",
      "frisbee_139872       0.151858\n",
      "sandwich_417608      0.165906\n",
      "wine glass_146489    0.147127\n",
      "wine glass_25394     0.068897\n",
      "Name: model_17_cv3_act, dtype: float64\n"
     ]
    }
   ],
   "source": [
    "print(last_layer[last_layer < 0.17])"
   ]
  },
  {
   "cell_type": "code",
   "execution_count": 41,
   "metadata": {},
   "outputs": [
    {
     "data": {
      "text/plain": [
       "0.3348871480820504"
      ]
     },
     "execution_count": 41,
     "metadata": {},
     "output_type": "execute_result"
    }
   ],
   "source": [
    "last_layer['skateboard_229553']"
   ]
  }
 ],
 "metadata": {
  "kernelspec": {
   "display_name": "xai-3.8",
   "language": "python",
   "name": "python3"
  },
  "language_info": {
   "codemirror_mode": {
    "name": "ipython",
    "version": 3
   },
   "file_extension": ".py",
   "mimetype": "text/x-python",
   "name": "python",
   "nbconvert_exporter": "python",
   "pygments_lexer": "ipython3",
   "version": "3.8.19"
  }
 },
 "nbformat": 4,
 "nbformat_minor": 2
}
