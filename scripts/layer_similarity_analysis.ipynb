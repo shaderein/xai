{
 "cells": [
  {
   "cell_type": "code",
   "execution_count": null,
   "metadata": {},
   "outputs": [],
   "source": [
    "import matplotlib.pyplot as plt\n",
    "import os, re\n",
    "import scipy.io\n",
    "from collections import defaultdict\n",
    "import numpy as np\n",
    "import pandas as pd\n",
    "\n",
    "def RMSE(predictions, targets):\n",
    "    return np.sqrt(((predictions - targets) ** 2).mean())"
   ]
  },
  {
   "cell_type": "code",
   "execution_count": null,
   "metadata": {},
   "outputs": [],
   "source": [
    "human_attention_path = '/mnt/h/OneDrive - The University Of Hong Kong/bdd/results/explanation/231018_vehicle_whole_screen_vb_fixed_pos/human_saliency_map'\n",
    "\n",
    "human_attention = defaultdict()\n",
    "\n",
    "for file in os.listdir(human_attention_path):\n",
    "    img_idx = re.findall(r'\\d+_',file)[-1].replace('_','')\n",
    "    mat = scipy.io.loadmat(os.path.join(human_attention_path,file))\n",
    "    human_attention[img_idx] = mat['output_map_norm']"
   ]
  },
  {
   "cell_type": "code",
   "execution_count": null,
   "metadata": {},
   "outputs": [],
   "source": [
    "xai_saliency_path = '/mnt/h/Projects/HKU_XAI_Project/Yolov5self_GradCAM_Pytorch_1/multi_layer_analysis/odam_test_results'\n",
    "\n",
    "xai_saliency_maps = defaultdict(defaultdict)\n",
    "PCC_all = defaultdict(defaultdict)\n",
    "RMSE_all = defaultdict(defaultdict)\n",
    "\n",
    "for dir in os.listdir(xai_saliency_path):\n",
    "    layer_num = int(re.findall(r\"F\\d+\",dir)[-1].replace('F',''))\n",
    "\n",
    "    for file in os.listdir(os.path.join(xai_saliency_path,dir)):\n",
    "        if '.mat' not in file: continue\n",
    "        img_idx = re.findall(r'\\d+-',file)[-1].replace('-','')\n",
    "        mat = scipy.io.loadmat(os.path.join(xai_saliency_path,dir,file))\n",
    "        xai_saliency_maps[layer_num][img_idx] = mat['masks_ndarray']\n",
    "\n",
    "        PCC_all[layer_num][img_idx] = np.corrcoef(xai_saliency_maps[layer_num][img_idx].flatten(), human_attention[img_idx].flatten())[0,1]\n",
    "        RMSE_all[layer_num][img_idx] = RMSE(xai_saliency_maps[layer_num][img_idx].flatten(), human_attention[img_idx].flatten())"
   ]
  },
  {
   "cell_type": "code",
   "execution_count": null,
   "metadata": {},
   "outputs": [],
   "source": [
    "PCC_layer_mean = pd.DataFrame.from_dict(PCC_all).mean(axis=0)\n",
    "PCC_sorted = PCC_layer_mean.sort_index()\n",
    "RMSE_layer_mean = pd.DataFrame.from_dict(RMSE_all).mean(axis=0)\n",
    "RMSE_sorted = RMSE_layer_mean.sort_index()"
   ]
  },
  {
   "cell_type": "code",
   "execution_count": null,
   "metadata": {},
   "outputs": [],
   "source": [
    "plt.figure()\n",
    "plt.plot(PCC_sorted.index, PCC_sorted.values, marker='o',fillstyle='none')\n",
    "plt.xticks(PCC_sorted.index)\n",
    "plt.ylim((0.2,0.8))\n",
    "plt.grid()\n",
    "plt.show()"
   ]
  },
  {
   "cell_type": "code",
   "execution_count": null,
   "metadata": {},
   "outputs": [],
   "source": [
    "plt.figure()\n",
    "plt.plot(RMSE_sorted.index, RMSE_sorted.values, marker='o',fillstyle='none')\n",
    "plt.xticks(RMSE_sorted.index)\n",
    "plt.ylim((0,0.3))\n",
    "plt.grid()\n",
    "plt.show()"
   ]
  }
 ],
 "metadata": {
  "kernelspec": {
   "display_name": "xai-3.8",
   "language": "python",
   "name": "python3"
  },
  "language_info": {
   "name": "python",
   "version": "3.8.18"
  }
 },
 "nbformat": 4,
 "nbformat_minor": 2
}
